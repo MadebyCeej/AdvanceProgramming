{
 "cells": [
  {
   "cell_type": "code",
   "execution_count": null,
   "id": "eca0bd1d-6219-4a74-83fe-f4f7ed75531c",
   "metadata": {},
   "outputs": [],
   "source": [
    "ALPHABET SOUP PROBLEM"
   ]
  },
  {
   "cell_type": "code",
   "execution_count": 20,
   "id": "b7dba6ad-a8cf-452a-bb1b-aa94558becf5",
   "metadata": {},
   "outputs": [
    {
     "name": "stdin",
     "output_type": "stream",
     "text": [
      "Enter a word:  BASTI\n"
     ]
    },
    {
     "name": "stdout",
     "output_type": "stream",
     "text": [
      "Alphabetical order: ABIST\n"
     ]
    }
   ],
   "source": [
    "def alphabet_soup(word: str) -> str:\n",
    "    # SORT THE WORD ALPHABETICALLY\n",
    "    return ''.join(sorted(word)) \n",
    "\n",
    "# USER'S INPUT\n",
    "user_word = input(\"Enter a word: \")\n",
    "print(\"Alphabetical order:\", alphabet_soup(user_word))"
   ]
  },
  {
   "cell_type": "code",
   "execution_count": null,
   "id": "d87bdf38-549a-4bfc-854e-cfd8c1baa949",
   "metadata": {},
   "outputs": [],
   "source": [
    "EMOTICON PROBLEM"
   ]
  },
  {
   "cell_type": "code",
   "execution_count": 27,
   "id": "2035216e-66eb-40ee-9f20-8764ca008ba0",
   "metadata": {},
   "outputs": [
    {
     "name": "stdin",
     "output_type": "stream",
     "text": [
      "Enter a sentence:  smile\n"
     ]
    },
    {
     "name": "stdout",
     "output_type": "stream",
     "text": [
      "Converted sentence: :)\n"
     ]
    }
   ],
   "source": [
    "def emotify(sentence: str) -> str:\n",
    "    # REPLACE EACH WORD TO EMOTICONS\n",
    "    # ALSO INCLUDE UPPER AND LOWER CASES\n",
    "    sentence = sentence.replace(\"Smile\", \":)\").replace(\"smile\", \":)\")\n",
    "    sentence = sentence.replace(\"Grin\", \":D\").replace(\"grin\", \":D\")\n",
    "    sentence = sentence.replace(\"Sad\", \":((\").replace(\"sad\", \":((\")\n",
    "    sentence = sentence.replace(\"Mad\", \">:(\").replace(\"mad\", \">:(\")\n",
    "    return sentence\n",
    "\n",
    "# USER'S INPUT\n",
    "user_sentence = input(\"Enter a sentence: \")\n",
    "# PRINT THE SORTED VERSION\n",
    "print(\"Converted sentence:\", emotify(user_sentence))"
   ]
  },
  {
   "cell_type": "code",
   "execution_count": null,
   "id": "ebc21fb9-7c51-4423-ba77-f28cea0c79b0",
   "metadata": {},
   "outputs": [],
   "source": [
    "UNPACKING LIST PROBLEM"
   ]
  },
  {
   "cell_type": "code",
   "execution_count": 24,
   "id": "ea3c99b7-8e22-44aa-ab05-1c9cf5442894",
   "metadata": {},
   "outputs": [
    {
     "name": "stdin",
     "output_type": "stream",
     "text": [
      "Enter numbers separated by spaces:  5 0 4 3 7 1 5 \n"
     ]
    },
    {
     "name": "stdout",
     "output_type": "stream",
     "text": [
      "First: 5\n",
      "Middle: [0, 4, 3, 7, 1]\n",
      "Last: 5\n"
     ]
    }
   ],
   "source": [
    "numbers = input(\"Enter numbers separated by spaces: \").split()\n",
    "lst = [int(x) for x in numbers]\n",
    "\n",
    "print(\"First:\", lst[0])\n",
    "print(\"Middle:\", lst[1:-1])\n",
    "print(\"Last:\", lst[-1])\n"
   ]
  },
  {
   "cell_type": "code",
   "execution_count": null,
   "id": "3be4f55b-11a6-4103-874c-48147160c3ee",
   "metadata": {},
   "outputs": [],
   "source": []
  }
 ],
 "metadata": {
  "kernelspec": {
   "display_name": "Python 3 (ipykernel)",
   "language": "python",
   "name": "python3"
  },
  "language_info": {
   "codemirror_mode": {
    "name": "ipython",
    "version": 3
   },
   "file_extension": ".py",
   "mimetype": "text/x-python",
   "name": "python",
   "nbconvert_exporter": "python",
   "pygments_lexer": "ipython3",
   "version": "3.13.5"
  }
 },
 "nbformat": 4,
 "nbformat_minor": 5
}
